{
 "cells": [
  {
   "cell_type": "code",
   "execution_count": 2,
   "metadata": {},
   "outputs": [
    {
     "name": "stdout",
     "output_type": "stream",
     "text": [
      "Enter the number of a = 4\n",
      "Enter the number of b = 5\n",
      "Mean =  5.0020451091504725\n",
      "Mean Percentage Error =  0.20451091504725127 %\n",
      "Variance =  15.985689439573807\n",
      "Variance Percentage Error =  1.431056042619261 %\n"
     ]
    }
   ],
   "source": [
    "import random as r\n",
    "import numpy as np\n",
    "import seaborn as sns\n",
    "arr=np.random.normal(0,1,10000000)\n",
    "a=int(input(\"Enter the number of a = \"))\n",
    "b=int(input(\"Enter the number of b = \"))\n",
    "for i in range(len(arr)):\n",
    "    arr[i]=(a*arr[i]+b)\n",
    "sum=0\n",
    "v=0\n",
    "for i in arr:\n",
    "    sum=sum+i\n",
    "mean=(sum)/len(arr)\n",
    "for i in arr:\n",
    "    v=v+((i-mean)**2)\n",
    "v=v/len(arr)\n",
    "print(\"Mean = \",mean)\n",
    "print(\"Mean Percentage Error = \",abs(b-mean)*100,\"%\")\n",
    "print(\"Variance = \",v)\n",
    "print(\"Variance Percentage Error = \",abs((a**2)-v)*100,\"%\")"
   ]
  },
  {
   "cell_type": "code",
   "execution_count": 4,
   "metadata": {},
   "outputs": [
    {
     "data": {
      "text/plain": [
       "(array([1.00000e+00, 0.00000e+00, 0.00000e+00, 0.00000e+00, 0.00000e+00,\n",
       "        1.00000e+00, 0.00000e+00, 0.00000e+00, 1.00000e+00, 0.00000e+00,\n",
       "        1.00000e+00, 0.00000e+00, 0.00000e+00, 1.00000e+00, 1.00000e+00,\n",
       "        0.00000e+00, 0.00000e+00, 3.00000e+00, 0.00000e+00, 3.00000e+00,\n",
       "        0.00000e+00, 5.00000e+00, 5.00000e+00, 7.00000e+00, 4.00000e+00,\n",
       "        7.00000e+00, 7.00000e+00, 6.00000e+00, 7.00000e+00, 1.00000e+01,\n",
       "        1.00000e+01, 1.10000e+01, 1.70000e+01, 2.30000e+01, 1.90000e+01,\n",
       "        2.30000e+01, 3.40000e+01, 3.90000e+01, 3.80000e+01, 5.50000e+01,\n",
       "        6.00000e+01, 6.60000e+01, 7.20000e+01, 1.02000e+02, 8.90000e+01,\n",
       "        1.03000e+02, 1.26000e+02, 1.36000e+02, 1.48000e+02, 1.63000e+02,\n",
       "        2.44000e+02, 2.68000e+02, 2.69000e+02, 3.35000e+02, 3.48000e+02,\n",
       "        4.08000e+02, 4.70000e+02, 4.99000e+02, 5.22000e+02, 6.67000e+02,\n",
       "        7.29000e+02, 8.07000e+02, 8.88000e+02, 9.57000e+02, 1.09400e+03,\n",
       "        1.27200e+03, 1.47900e+03, 1.61600e+03, 1.80000e+03, 1.92000e+03,\n",
       "        2.18800e+03, 2.36500e+03, 2.73500e+03, 2.93500e+03, 3.19800e+03,\n",
       "        3.63900e+03, 4.02200e+03, 4.35600e+03, 4.79600e+03, 5.25000e+03,\n",
       "        5.75400e+03, 6.34200e+03, 6.95000e+03, 7.47000e+03, 8.15800e+03,\n",
       "        8.84300e+03, 9.45200e+03, 1.07890e+04, 1.15500e+04, 1.25150e+04,\n",
       "        1.32840e+04, 1.45160e+04, 1.54870e+04, 1.68040e+04, 1.78350e+04,\n",
       "        1.92680e+04, 2.09570e+04, 2.25660e+04, 2.40370e+04, 2.57970e+04,\n",
       "        2.74990e+04, 2.92300e+04, 3.12050e+04, 3.31460e+04, 3.56340e+04,\n",
       "        3.76050e+04, 3.98170e+04, 4.18660e+04, 4.48420e+04, 4.67890e+04,\n",
       "        4.93180e+04, 5.22380e+04, 5.43720e+04, 5.78240e+04, 6.00870e+04,\n",
       "        6.33440e+04, 6.61780e+04, 6.92110e+04, 7.15080e+04, 7.48890e+04,\n",
       "        7.84800e+04, 8.09250e+04, 8.40780e+04, 8.71660e+04, 9.06300e+04,\n",
       "        9.38800e+04, 9.62560e+04, 1.00461e+05, 1.02899e+05, 1.06010e+05,\n",
       "        1.08482e+05, 1.11346e+05, 1.14863e+05, 1.17102e+05, 1.19919e+05,\n",
       "        1.22313e+05, 1.24686e+05, 1.27029e+05, 1.29164e+05, 1.30786e+05,\n",
       "        1.32866e+05, 1.34657e+05, 1.36683e+05, 1.38227e+05, 1.38999e+05,\n",
       "        1.40265e+05, 1.41492e+05, 1.42672e+05, 1.42503e+05, 1.42633e+05,\n",
       "        1.42649e+05, 1.43145e+05, 1.43414e+05, 1.43480e+05, 1.42320e+05,\n",
       "        1.41645e+05, 1.40800e+05, 1.39323e+05, 1.38300e+05, 1.36754e+05,\n",
       "        1.36110e+05, 1.33140e+05, 1.31830e+05, 1.30053e+05, 1.27629e+05,\n",
       "        1.24850e+05, 1.23374e+05, 1.20449e+05, 1.18528e+05, 1.15143e+05,\n",
       "        1.12646e+05, 1.09627e+05, 1.06776e+05, 1.03687e+05, 1.01177e+05,\n",
       "        9.76030e+04, 9.41230e+04, 9.14450e+04, 8.83380e+04, 8.56030e+04,\n",
       "        8.20960e+04, 7.88370e+04, 7.60860e+04, 7.31940e+04, 6.99160e+04,\n",
       "        6.71980e+04, 6.37900e+04, 6.14890e+04, 5.82600e+04, 5.53580e+04,\n",
       "        5.22820e+04, 5.00300e+04, 4.76770e+04, 4.49050e+04, 4.24390e+04,\n",
       "        4.04300e+04, 3.77310e+04, 3.61890e+04, 3.37310e+04, 3.18370e+04,\n",
       "        2.97290e+04, 2.81140e+04, 2.60690e+04, 2.46450e+04, 2.28090e+04,\n",
       "        2.11730e+04, 2.00000e+04, 1.84400e+04, 1.70790e+04, 1.58380e+04,\n",
       "        1.48190e+04, 1.35320e+04, 1.26730e+04, 1.16260e+04, 1.07770e+04,\n",
       "        9.89000e+03, 9.14100e+03, 8.37200e+03, 7.69200e+03, 6.88400e+03,\n",
       "        6.47300e+03, 5.85900e+03, 5.47800e+03, 4.95500e+03, 4.46400e+03,\n",
       "        4.00300e+03, 3.70200e+03, 3.41100e+03, 3.02300e+03, 2.74500e+03,\n",
       "        2.47000e+03, 2.27800e+03, 2.04400e+03, 1.84700e+03, 1.62600e+03,\n",
       "        1.46900e+03, 1.32800e+03, 1.13900e+03, 1.07200e+03, 8.54000e+02,\n",
       "        8.32000e+02, 7.15000e+02, 6.49000e+02, 6.13000e+02, 5.60000e+02,\n",
       "        4.26000e+02, 4.24000e+02, 3.48000e+02, 3.16000e+02, 3.17000e+02,\n",
       "        2.42000e+02, 2.17000e+02, 1.96000e+02, 1.59000e+02, 1.28000e+02,\n",
       "        1.31000e+02, 1.20000e+02, 9.70000e+01, 8.80000e+01, 8.10000e+01,\n",
       "        6.30000e+01, 5.70000e+01, 4.90000e+01, 4.50000e+01, 3.80000e+01,\n",
       "        2.50000e+01, 2.00000e+01, 2.20000e+01, 1.90000e+01, 9.00000e+00,\n",
       "        1.50000e+01, 1.50000e+01, 8.00000e+00, 1.20000e+01, 6.00000e+00,\n",
       "        8.00000e+00, 6.00000e+00, 2.00000e+00, 1.00000e+00, 4.00000e+00,\n",
       "        0.00000e+00, 0.00000e+00, 2.00000e+00, 1.00000e+00, 1.00000e+00,\n",
       "        0.00000e+00, 2.00000e+00, 0.00000e+00, 0.00000e+00, 3.00000e+00,\n",
       "        0.00000e+00, 0.00000e+00, 0.00000e+00, 0.00000e+00, 0.00000e+00,\n",
       "        0.00000e+00, 0.00000e+00, 1.00000e+00, 0.00000e+00, 1.00000e+00]),\n",
       " array([-16.70450054, -16.56088119, -16.41726184, -16.27364249,\n",
       "        -16.13002314, -15.98640379, -15.84278444, -15.69916508,\n",
       "        -15.55554573, -15.41192638, -15.26830703, -15.12468768,\n",
       "        -14.98106833, -14.83744898, -14.69382963, -14.55021028,\n",
       "        -14.40659092, -14.26297157, -14.11935222, -13.97573287,\n",
       "        -13.83211352, -13.68849417, -13.54487482, -13.40125547,\n",
       "        -13.25763612, -13.11401676, -12.97039741, -12.82677806,\n",
       "        -12.68315871, -12.53953936, -12.39592001, -12.25230066,\n",
       "        -12.10868131, -11.96506196, -11.8214426 , -11.67782325,\n",
       "        -11.5342039 , -11.39058455, -11.2469652 , -11.10334585,\n",
       "        -10.9597265 , -10.81610715, -10.67248779, -10.52886844,\n",
       "        -10.38524909, -10.24162974, -10.09801039,  -9.95439104,\n",
       "         -9.81077169,  -9.66715234,  -9.52353299,  -9.37991363,\n",
       "         -9.23629428,  -9.09267493,  -8.94905558,  -8.80543623,\n",
       "         -8.66181688,  -8.51819753,  -8.37457818,  -8.23095883,\n",
       "         -8.08733947,  -7.94372012,  -7.80010077,  -7.65648142,\n",
       "         -7.51286207,  -7.36924272,  -7.22562337,  -7.08200402,\n",
       "         -6.93838467,  -6.79476531,  -6.65114596,  -6.50752661,\n",
       "         -6.36390726,  -6.22028791,  -6.07666856,  -5.93304921,\n",
       "         -5.78942986,  -5.64581051,  -5.50219115,  -5.3585718 ,\n",
       "         -5.21495245,  -5.0713331 ,  -4.92771375,  -4.7840944 ,\n",
       "         -4.64047505,  -4.4968557 ,  -4.35323635,  -4.20961699,\n",
       "         -4.06599764,  -3.92237829,  -3.77875894,  -3.63513959,\n",
       "         -3.49152024,  -3.34790089,  -3.20428154,  -3.06066219,\n",
       "         -2.91704283,  -2.77342348,  -2.62980413,  -2.48618478,\n",
       "         -2.34256543,  -2.19894608,  -2.05532673,  -1.91170738,\n",
       "         -1.76808803,  -1.62446867,  -1.48084932,  -1.33722997,\n",
       "         -1.19361062,  -1.04999127,  -0.90637192,  -0.76275257,\n",
       "         -0.61913322,  -0.47551387,  -0.33189451,  -0.18827516,\n",
       "         -0.04465581,   0.09896354,   0.24258289,   0.38620224,\n",
       "          0.52982159,   0.67344094,   0.81706029,   0.96067965,\n",
       "          1.104299  ,   1.24791835,   1.3915377 ,   1.53515705,\n",
       "          1.6787764 ,   1.82239575,   1.9660151 ,   2.10963446,\n",
       "          2.25325381,   2.39687316,   2.54049251,   2.68411186,\n",
       "          2.82773121,   2.97135056,   3.11496991,   3.25858926,\n",
       "          3.40220862,   3.54582797,   3.68944732,   3.83306667,\n",
       "          3.97668602,   4.12030537,   4.26392472,   4.40754407,\n",
       "          4.55116342,   4.69478278,   4.83840213,   4.98202148,\n",
       "          5.12564083,   5.26926018,   5.41287953,   5.55649888,\n",
       "          5.70011823,   5.84373758,   5.98735694,   6.13097629,\n",
       "          6.27459564,   6.41821499,   6.56183434,   6.70545369,\n",
       "          6.84907304,   6.99269239,   7.13631174,   7.2799311 ,\n",
       "          7.42355045,   7.5671698 ,   7.71078915,   7.8544085 ,\n",
       "          7.99802785,   8.1416472 ,   8.28526655,   8.4288859 ,\n",
       "          8.57250526,   8.71612461,   8.85974396,   9.00336331,\n",
       "          9.14698266,   9.29060201,   9.43422136,   9.57784071,\n",
       "          9.72146006,   9.86507942,  10.00869877,  10.15231812,\n",
       "         10.29593747,  10.43955682,  10.58317617,  10.72679552,\n",
       "         10.87041487,  11.01403422,  11.15765358,  11.30127293,\n",
       "         11.44489228,  11.58851163,  11.73213098,  11.87575033,\n",
       "         12.01936968,  12.16298903,  12.30660838,  12.45022774,\n",
       "         12.59384709,  12.73746644,  12.88108579,  13.02470514,\n",
       "         13.16832449,  13.31194384,  13.45556319,  13.59918254,\n",
       "         13.7428019 ,  13.88642125,  14.0300406 ,  14.17365995,\n",
       "         14.3172793 ,  14.46089865,  14.604518  ,  14.74813735,\n",
       "         14.89175671,  15.03537606,  15.17899541,  15.32261476,\n",
       "         15.46623411,  15.60985346,  15.75347281,  15.89709216,\n",
       "         16.04071151,  16.18433087,  16.32795022,  16.47156957,\n",
       "         16.61518892,  16.75880827,  16.90242762,  17.04604697,\n",
       "         17.18966632,  17.33328567,  17.47690503,  17.62052438,\n",
       "         17.76414373,  17.90776308,  18.05138243,  18.19500178,\n",
       "         18.33862113,  18.48224048,  18.62585983,  18.76947919,\n",
       "         18.91309854,  19.05671789,  19.20033724,  19.34395659,\n",
       "         19.48757594,  19.63119529,  19.77481464,  19.91843399,\n",
       "         20.06205335,  20.2056727 ,  20.34929205,  20.4929114 ,\n",
       "         20.63653075,  20.7801501 ,  20.92376945,  21.0673888 ,\n",
       "         21.21100815,  21.35462751,  21.49824686,  21.64186621,\n",
       "         21.78548556,  21.92910491,  22.07272426,  22.21634361,\n",
       "         22.35996296,  22.50358231,  22.64720167,  22.79082102,\n",
       "         22.93444037,  23.07805972,  23.22167907,  23.36529842,\n",
       "         23.50891777,  23.65253712,  23.79615647,  23.93977583,\n",
       "         24.08339518,  24.22701453,  24.37063388,  24.51425323,\n",
       "         24.65787258,  24.80149193,  24.94511128,  25.08873063,\n",
       "         25.23234999,  25.37596934,  25.51958869,  25.66320804,\n",
       "         25.80682739,  25.95044674,  26.09406609,  26.23768544,\n",
       "         26.3813048 ]),\n",
       " <a list of 300 Patch objects>)"
      ]
     },
     "execution_count": 4,
     "metadata": {},
     "output_type": "execute_result"
    },
    {
     "data": {
      "image/png": "[encoded data removed]",
      "text/plain": [
       "<Figure size 432x288 with 1 Axes>"
      ]
     },
     "metadata": {},
     "output_type": "display_data"
    }
   ],
   "source": [
    "import matplotlib.pyplot as plt\n",
    "plt.hist(arr,300)"
   ]
  },
  {
   "cell_type": "code",
   "execution_count": 5,
   "metadata": {},
   "outputs": [],
   "source": [
    "def mean(arr):\n",
    "    sum=0\n",
    "    for i in arr:\n",
    "        sum=sum+i\n",
    "    v=0\n",
    "    m=sum/len(arr)\n",
    "    for i in arr:\n",
    "        v=v+((i-m)**2)\n",
    "    return(m,v/len(arr))"
   ]
  },
  {
   "cell_type": "code",
   "execution_count": 6,
   "metadata": {},
   "outputs": [
    {
     "name": "stdout",
     "output_type": "stream",
     "text": [
      "Enter the number of a = 4\n",
      "Enter the number of b = 5\n",
      "0.0012713608492177786\n",
      "1.0010010383421408\n",
      "Mean =  0.0012713608492177786\n",
      "Mean Percentage Error =  0.12713608492177786 %\n",
      "Variance =  1.0010010383421408\n",
      "Variance Percentage Error =  0.10010383421408253 %\n"
     ]
    }
   ],
   "source": [
    "a=int(input(\"Enter the number of a = \"))\n",
    "b=int(input(\"Enter the number of b = \"))\n",
    "arr=np.random.normal(a,b,1000000)\n",
    "for i in range(len(arr)):\n",
    "    arr[i]=((arr[i]-a)/b)\n",
    "m,v=mean(arr)\n",
    "print(m)\n",
    "print(v)\n",
    "print(\"Mean = \",m)\n",
    "print(\"Mean Percentage Error = \",abs(0-m)*100,\"%\")\n",
    "print(\"Variance = \",v)\n",
    "print(\"Variance Percentage Error = \",abs(1-v)*100,\"%\")"
   ]
  },
  {
   "cell_type": "code",
   "execution_count": 135,
   "metadata": {},
   "outputs": [],
   "source": []
  },
  {
   "cell_type": "code",
   "execution_count": 60,
   "metadata": {},
   "outputs": [],
   "source": [
    "def only_mean(a):\n",
    "    sum=0\n",
    "    for i in a:\n",
    "        sum=sum+i\n",
    "    return (sum/len(a))\n",
    "def mean(arr):\n",
    "    sum=0\n",
    "    for i in arr:\n",
    "        sum=sum+i\n",
    "    v=0\n",
    "    m=sum/len(arr)\n",
    "    for i in arr:\n",
    "        v=v+((i-m)**2)\n",
    "    return(m,v/len(arr))\n",
    "def only_v(a):\n",
    "    sum=0\n",
    "    for i in a:\n",
    "        sum=sum+i\n",
    "    m=sum/len(a)\n",
    "    v=0\n",
    "    for i in a:\n",
    "        v=v+((i-m)**2)\n",
    "    return(v/len(arr))"
   ]
  },
  {
   "cell_type": "code",
   "execution_count": 102,
   "metadata": {},
   "outputs": [
    {
     "name": "stdout",
     "output_type": "stream",
     "text": [
      "Enter the mean = 10\n",
      "Enter the variance = 5\n",
      "Mean of means 10.013166314026268\n",
      "Percentage error =  1.316631402626811 %\n"
     ]
    }
   ],
   "source": [
    "means=[]\n",
    "var=[]\n",
    "a=int(input(\"Enter the mean = \"))\n",
    "b=int(input(\"Enter the variance = \"))\n",
    "copy=a\n",
    "arr=np.random.normal(a,b,10000000)\n",
    "for i in range(10000):\n",
    "    nar=[]\n",
    "    for j in range(50):\n",
    "        nar.append(arr[r.randint(0,len(arr)-1)])\n",
    "    a,b=mean(nar)\n",
    "    means.append(a)\n",
    "    var.append(b)\n",
    "res=only_mean(means)\n",
    "print(\"Mean of means\",res)\n",
    "print(\"Percentage error = \",abs(res-copy)*100,\"%\")"
   ]
  },
  {
   "cell_type": "code",
   "execution_count": 103,
   "metadata": {},
   "outputs": [
    {
     "name": "stderr",
     "output_type": "stream",
     "text": [
      "C:\\Users\\Kartikay Bansal\\Anaconda3\\lib\\site-packages\\matplotlib\\axes\\_axes.py:6462: UserWarning: The 'normed' kwarg is deprecated, and has been replaced by the 'density' kwarg.\n",
      "  warnings.warn(\"The 'normed' kwarg is deprecated, and has been \"\n"
     ]
    },
    {
     "data": {
      "text/plain": [
       "<matplotlib.axes._subplots.AxesSubplot at 0x1b4b3613518>"
      ]
     },
     "execution_count": 103,
     "metadata": {},
     "output_type": "execute_result"
    },
    {
     "data": {
      "image/png": "[encoded data removed]",
      "text/plain": [
       "<Figure size 432x288 with 1 Axes>"
      ]
     },
     "metadata": {},
     "output_type": "display_data"
    }
   ],
   "source": [
    "sns.distplot(means,color=\"blue\",label=\"Means Of Normal Distribution\")"
   ]
  },
  {
   "cell_type": "code",
   "execution_count": 95,
   "metadata": {},
   "outputs": [],
   "source": [
    "def mofm(arr):\n",
    "    means=[].\n",
    "    \n",
    "    for i in range(10000):\n",
    "        nar=[]\n",
    "        for j in range(100):\n",
    "            nar.append(arr[r.randint(0,len(arr)-1)])\n",
    "        a,b=mean(nar)\n",
    "        means.append(a)\n",
    "    return means"
   ]
  },
  {
   "cell_type": "code",
   "execution_count": 97,
   "metadata": {},
   "outputs": [
    {
     "name": "stdout",
     "output_type": "stream",
     "text": [
      "Enter the value of 1/lambda = 9\n",
      "Mean of means 9.001205999999987\n",
      "Percentage error =  0.12059999999873838 %\n"
     ]
    }
   ],
   "source": [
    "l=int(input(\"Enter the value of 1/lambda = \"))\n",
    "arr=np.random.poisson(l,1000000)\n",
    "means=mofm(arr)\n",
    "res=only_mean(means)\n",
    "print(\"Mean of means\",res)\n",
    "print(\"Percentage error = \",abs(res-l)*100,\"%\")"
   ]
  },
  {
   "cell_type": "code",
   "execution_count": 99,
   "metadata": {},
   "outputs": [
    {
     "name": "stderr",
     "output_type": "stream",
     "text": [
      "C:\\Users\\Kartikay Bansal\\Anaconda3\\lib\\site-packages\\matplotlib\\axes\\_axes.py:6462: UserWarning: The 'normed' kwarg is deprecated, and has been replaced by the 'density' kwarg.\n",
      "  warnings.warn(\"The 'normed' kwarg is deprecated, and has been \"\n"
     ]
    },
    {
     "data": {
      "text/plain": [
       "<matplotlib.axes._subplots.AxesSubplot at 0x1b4b34594e0>"
      ]
     },
     "execution_count": 99,
     "metadata": {},
     "output_type": "execute_result"
    },
    {
     "data": {
      "image/png": "[encoded data removed]",
      "text/plain": [
       "<Figure size 432x288 with 1 Axes>"
      ]
     },
     "metadata": {},
     "output_type": "display_data"
    }
   ],
   "source": [
    "sns.distplot(means,color=\"blue\",label=\"Means Of Poisson Distribution\")"
   ]
  },
  {
   "cell_type": "code",
   "execution_count": null,
   "metadata": {},
   "outputs": [],
   "source": []
  },
  {
   "cell_type": "code",
   "execution_count": 100,
   "metadata": {},
   "outputs": [
    {
     "name": "stdout",
     "output_type": "stream",
     "text": [
      "Enter the value of lambda = 8\n",
      "Mean of means 8.005976250029587\n",
      "Percentage error =  0.5976250029586794 %\n"
     ]
    }
   ],
   "source": [
    "l=int(input(\"Enter the value of lambda = \"))\n",
    "arr=np.random.exponential(l,1000000)\n",
    "means=mofm(arr)\n",
    "res=only_mean(means)\n",
    "print(\"Mean of means\",res)\n",
    "print(\"Percentage error = \",abs(res-l)*100,\"%\")"
   ]
  },
  {
   "cell_type": "code",
   "execution_count": 101,
   "metadata": {},
   "outputs": [
    {
     "name": "stderr",
     "output_type": "stream",
     "text": [
      "C:\\Users\\Kartikay Bansal\\Anaconda3\\lib\\site-packages\\matplotlib\\axes\\_axes.py:6462: UserWarning: The 'normed' kwarg is deprecated, and has been replaced by the 'density' kwarg.\n",
      "  warnings.warn(\"The 'normed' kwarg is deprecated, and has been \"\n"
     ]
    },
    {
     "data": {
      "text/plain": [
       "<matplotlib.axes._subplots.AxesSubplot at 0x1b4b3513550>"
      ]
     },
     "execution_count": 101,
     "metadata": {},
     "output_type": "execute_result"
    },
    {
     "data": {
      "image/png": "[encoded data removed]",
      "text/plain": [
       "<Figure size 432x288 with 1 Axes>"
      ]
     },
     "metadata": {},
     "output_type": "display_data"
    }
   ],
   "source": [
    "sns.distplot(means,color=\"blue\",label=\"Means Of Exponential Distribution\")"
   ]
  },
  {
   "cell_type": "code",
   "execution_count": null,
   "metadata": {},
   "outputs": [],
   "source": []
  },
  {
   "cell_type": "code",
   "execution_count": null,
   "metadata": {},
   "outputs": [],
   "source": []
  },
  {
   "cell_type": "code",
   "execution_count": 20,
   "metadata": {},
   "outputs": [
    {
     "name": "stdout",
     "output_type": "stream",
     "text": [
      "<function mofm at 0x000001B4ACBBA840>\n"
     ]
    }
   ],
   "source": [
    "print(mofm)"
   ]
  },
  {
   "cell_type": "code",
   "execution_count": 94,
   "metadata": {},
   "outputs": [
    {
     "name": "stdout",
     "output_type": "stream",
     "text": [
      "def mofm(arr):\n",
      "    means=[]\n",
      "    for i in range(10000):\n",
      "        nar=[]\n",
      "        for j in range(100):\n",
      "            nar.append(arr[r.randint(0,len(arr)-1)])\n",
      "        a,b=mean(nar)\n",
      "        means.append(a)\n",
      "    return means\n",
      "\n"
     ]
    }
   ],
   "source": [
    "import inspect\n",
    "code, line_no = inspect.getsourcelines(mofm)\n",
    "print(''.join(code))"
   ]
  },
  {
   "cell_type": "code",
   "execution_count": null,
   "metadata": {},
   "outputs": [],
   "source": []
  },
  {
   "cell_type": "code",
   "execution_count": 56,
   "metadata": {},
   "outputs": [
    {
     "data": {
      "text/plain": [
       "[8.2]"
      ]
     },
     "execution_count": 56,
     "metadata": {},
     "output_type": "execute_result"
    }
   ],
   "source": [
    "plt.subplot()"
   ]
  },
  {
   "cell_type": "code",
   "execution_count": null,
   "metadata": {},
   "outputs": [],
   "source": []
  }
 ],
 "metadata": {
  "kernelspec": {
   "display_name": "Python 3",
   "language": "python",
   "name": "python3"
  },
  "language_info": {
   "codemirror_mode": {
    "name": "ipython",
    "version": 3
   },
   "file_extension": ".py",
   "mimetype": "text/x-python",
   "name": "python",
   "nbconvert_exporter": "python",
   "pygments_lexer": "ipython3",
   "version": "3.6.5"
  }
 },
 "nbformat": 4,
 "nbformat_minor": 2
}
